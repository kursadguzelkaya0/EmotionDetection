{
  "cells": [
    {
      "cell_type": "code",
      "execution_count": null,
      "metadata": {
        "colab": {
          "base_uri": "https://localhost:8080/"
        },
        "id": "x6jOlclMKTqk",
        "outputId": "afd7ebb9-c21c-41a4-ec9f-5b7dd2d75bb6"
      },
      "outputs": [
        {
          "output_type": "stream",
          "name": "stdout",
          "text": [
            "Mounted at /content/drive/\n"
          ]
        }
      ],
      "source": [
        "from google.colab import drive\n",
        "\n",
        "# Mounting Google Drive\n",
        "drive.mount(\"/content/drive/\")"
      ]
    },
    {
      "cell_type": "code",
      "execution_count": null,
      "metadata": {
        "colab": {
          "base_uri": "https://localhost:8080/"
        },
        "id": "BXJ6dSxPLlbf",
        "outputId": "c04f7453-4a55-46e1-c2fe-b0f853df2249"
      },
      "outputs": [
        {
          "output_type": "stream",
          "name": "stdout",
          "text": [
            "test  train\n"
          ]
        }
      ],
      "source": [
        "# Listing the files inside the Google Drive directory (Use your own directory)\n",
        "!ls \"/content/drive/MyDrive/Cs464/dataset\""
      ]
    },
    {
      "cell_type": "code",
      "execution_count": null,
      "metadata": {
        "id": "c7ds86-3Go1H"
      },
      "outputs": [],
      "source": [
        "import numpy as np\n",
        "import cv2\n",
        "import glob\n",
        "import os\n",
        "import matplotlib.pyplot as plt\n",
        "import string\n",
        "from mlxtend.plotting import plot_decision_regions\n",
        "from mpl_toolkits.mplot3d import Axes3D\n",
        "from sklearn.decomposition import PCA\n",
        "from sklearn.preprocessing import StandardScaler\n",
        "from sklearn.model_selection import train_test_split, cross_val_score\n",
        "from sklearn.utils.multiclass import unique_labels\n",
        "from sklearn.ensemble import RandomForestClassifier\n",
        "from sklearn.metrics import confusion_matrix, accuracy_score"
      ]
    },
    {
      "cell_type": "code",
      "execution_count": null,
      "metadata": {
        "id": "nHqOy-j9GqlZ"
      },
      "outputs": [],
      "source": [
        "img_size = 48 #original size of the image"
      ]
    },
    {
      "cell_type": "code",
      "execution_count": null,
      "metadata": {
        "id": "KRmCocQ8GudY"
      },
      "outputs": [],
      "source": [
        "def getFaceImages(emotions, data_type, print_n=False):\n",
        "    images = []\n",
        "    labels = []\n",
        "    path = \"/content/drive/MyDrive/Cs464/dataset/\" + data_type + \"/\"\n",
        "    for i,f in enumerate(emotions):\n",
        "        p = path + f\n",
        "        j=0\n",
        "        for image_path in glob.glob(os.path.join(p, \"*.jpg\")):\n",
        "            image = cv2.imread(image_path, 0)\n",
        "            image = cv2.resize(image, (img_size, img_size))\n",
        "            images.append(image)\n",
        "            labels.append(i)\n",
        "            j+=1\n",
        "        if(print_n):\n",
        "            print(\"There are \" , j , \" \" , data_type.upper(), \" images of \" , emotions[i].upper())\n",
        "    images = np.array(images)\n",
        "    labels = np.array(labels)\n",
        "    return images, labels\n"
      ]
    },
    {
      "cell_type": "markdown",
      "metadata": {
        "id": "5gMAwrPCugAI"
      },
      "source": [
        "# Train, Validation and Test Sets"
      ]
    },
    {
      "cell_type": "code",
      "execution_count": null,
      "metadata": {
        "colab": {
          "base_uri": "https://localhost:8080/"
        },
        "id": "V33XLhT6tbJo",
        "outputId": "6ed2e594-98b0-44cc-bd3b-332ed273d49a"
      },
      "outputs": [
        {
          "output_type": "stream",
          "name": "stdout",
          "text": [
            "There are  3995   TRAIN  images of  ANGRY\n",
            "There are  436   TRAIN  images of  DISGUST\n",
            "There are  4097   TRAIN  images of  FEAR\n",
            "There are  7221   TRAIN  images of  HAPPY\n",
            "There are  4965   TRAIN  images of  NEUTRAL\n",
            "There are  4830   TRAIN  images of  SAD\n",
            "There are  3171   TRAIN  images of  SURPRISE\n",
            "There are  958   TEST  images of  ANGRY\n",
            "There are  111   TEST  images of  DISGUST\n",
            "There are  1024   TEST  images of  FEAR\n",
            "There are  1774   TEST  images of  HAPPY\n",
            "There are  1239   TEST  images of  NEUTRAL\n",
            "There are  1247   TEST  images of  SAD\n",
            "There are  831   TEST  images of  SURPRISE\n"
          ]
        }
      ],
      "source": [
        "emotions = ['angry', 'disgust', 'fear', 'happy', 'neutral', 'sad', 'surprise']\n",
        "\n",
        "#Get Images and Labels\n",
        "X, y =  getFaceImages(emotions, 'train', print_n=True)\n",
        "\n",
        "# Splitting the data into train and validation sets\n",
        "X_train, X_val, y_train, y_val = train_test_split(X, y, test_size=0.2, random_state=42)\n",
        "\n",
        "X_test, y_test = getFaceImages(emotions, 'test', print_n=True)"
      ]
    },
    {
      "cell_type": "markdown",
      "metadata": {
        "id": "qv8MLjqGuoFC"
      },
      "source": [
        "# Standard Scaler"
      ]
    },
    {
      "cell_type": "code",
      "execution_count": null,
      "metadata": {
        "id": "44yd0i5PG805"
      },
      "outputs": [],
      "source": [
        "#Scale Data Images\n",
        "scaler = StandardScaler()\n",
        "X_train = scaler.fit_transform([i.flatten() for i in X_train])\n",
        "X_val = scaler.fit_transform([i.flatten() for i in X_val])\n",
        "X_test = scaler.fit_transform([i.flatten() for i in X_test])"
      ]
    },
    {
      "cell_type": "markdown",
      "metadata": {
        "id": "MUo6kxsXur5R"
      },
      "source": [
        "# **Random Forest** without PCA"
      ]
    },
    {
      "cell_type": "markdown",
      "source": [
        "## n_estimators = 1, 25, 50, 75, 150"
      ],
      "metadata": {
        "id": "UZIZcOiAt3TH"
      }
    },
    {
      "cell_type": "code",
      "source": [
        "classifier = RandomForestClassifier(n_estimators = 1, random_state = 42)\n",
        "classifier.fit(X_train, y_train)\n",
        "y_pred = classifier.predict(X_val)\n",
        "cm = confusion_matrix(y_val, y_pred)\n",
        "print(cm)\n",
        "accuracy_score(y_val, y_pred)"
      ],
      "metadata": {
        "colab": {
          "base_uri": "https://localhost:8080/"
        },
        "id": "egkdOXZtt2kB",
        "outputId": "cc1f8f44-1516-4a3a-8666-64f75f1c9f76"
      },
      "execution_count": null,
      "outputs": [
        {
          "output_type": "stream",
          "name": "stdout",
          "text": [
            "[[161  11 103 179 128 132  64]\n",
            " [ 11  15  11  21  10  14  10]\n",
            " [119  15 181 172 143 131  74]\n",
            " [145  20 178 574 248 215 104]\n",
            " [145  13 117 213 213 166  80]\n",
            " [133  16 140 215 170 236  75]\n",
            " [ 65  12  87  85  77  77 219]]\n"
          ]
        },
        {
          "output_type": "execute_result",
          "data": {
            "text/plain": [
              "0.2784259098032387"
            ]
          },
          "metadata": {},
          "execution_count": 8
        }
      ]
    },
    {
      "cell_type": "code",
      "source": [
        "classifier = RandomForestClassifier(n_estimators = 25, random_state = 42)\n",
        "classifier.fit(X_train, y_train)\n",
        "y_pred = classifier.predict(X_val)\n",
        "cm = confusion_matrix(y_val, y_pred)\n",
        "print(cm)\n",
        "accuracy_score(y_val, y_pred)"
      ],
      "metadata": {
        "colab": {
          "base_uri": "https://localhost:8080/"
        },
        "id": "t-J_WmiTuMIK",
        "outputId": "c81db538-c43b-493b-f083-493316c655d2"
      },
      "execution_count": null,
      "outputs": [
        {
          "output_type": "stream",
          "name": "stdout",
          "text": [
            "[[ 204    0   94  223  118  113   26]\n",
            " [   7   24    4   28   13   13    3]\n",
            " [  90    0  244  225   97  130   49]\n",
            " [ 114    0   79 1017  130  116   28]\n",
            " [ 112    0   88  290  331  105   21]\n",
            " [ 110    0  106  296  178  266   29]\n",
            " [  31    0   74  111   57   35  314]]\n"
          ]
        },
        {
          "output_type": "execute_result",
          "data": {
            "text/plain": [
              "0.41790005223750654"
            ]
          },
          "metadata": {},
          "execution_count": 9
        }
      ]
    },
    {
      "cell_type": "code",
      "source": [
        "classifier = RandomForestClassifier(n_estimators = 50, random_state = 42)\n",
        "classifier.fit(X_train, y_train)\n",
        "y_pred = classifier.predict(X_val)\n",
        "cm = confusion_matrix(y_val, y_pred)\n",
        "print(cm)\n",
        "accuracy_score(y_val, y_pred)"
      ],
      "metadata": {
        "colab": {
          "base_uri": "https://localhost:8080/"
        },
        "id": "8rzTEFejuNqN",
        "outputId": "57aa24dc-b885-4181-9041-ab98bf2acd66"
      },
      "execution_count": null,
      "outputs": [
        {
          "output_type": "stream",
          "name": "stdout",
          "text": [
            "[[ 185    0   60  279  113  122   19]\n",
            " [   2   24    8   31   14    9    4]\n",
            " [  87    0  221  254   96  127   50]\n",
            " [  72    0   61 1113   99  113   26]\n",
            " [  66    0   65  322  360  114   20]\n",
            " [  87    0   86  305  164  312   31]\n",
            " [  26    0   53  112   58   34  339]]\n"
          ]
        },
        {
          "output_type": "execute_result",
          "data": {
            "text/plain": [
              "0.4447153055894132"
            ]
          },
          "metadata": {},
          "execution_count": 10
        }
      ]
    },
    {
      "cell_type": "code",
      "source": [
        "classifier = RandomForestClassifier(n_estimators = 75, random_state = 42)\n",
        "classifier.fit(X_train, y_train)\n",
        "y_pred = classifier.predict(X_val)\n",
        "cm = confusion_matrix(y_val, y_pred)\n",
        "print(cm)\n",
        "accuracy_score(y_val, y_pred)"
      ],
      "metadata": {
        "colab": {
          "base_uri": "https://localhost:8080/"
        },
        "id": "4PaqwMnduPHC",
        "outputId": "e03cde35-822b-40d6-ba08-bd72c7d6f8c2"
      },
      "execution_count": null,
      "outputs": [
        {
          "output_type": "stream",
          "name": "stdout",
          "text": [
            "[[ 182    0   55  264  132  129   16]\n",
            " [   2   25    9   30   11   11    4]\n",
            " [  74    0  213  266   89  132   61]\n",
            " [  60    0   43 1147   94  112   28]\n",
            " [  45    0   49  334  375  121   23]\n",
            " [  66    0   79  313  155  344   28]\n",
            " [  17    0   46  123   51   41  344]]\n"
          ]
        },
        {
          "output_type": "execute_result",
          "data": {
            "text/plain": [
              "0.45794880724360093"
            ]
          },
          "metadata": {},
          "execution_count": 11
        }
      ]
    },
    {
      "cell_type": "code",
      "source": [
        "classifier = RandomForestClassifier(n_estimators = 150, random_state = 42)\n",
        "classifier.fit(X_train, y_train)\n",
        "y_pred = classifier.predict(X_val)\n",
        "cm = confusion_matrix(y_val, y_pred)\n",
        "print(cm)\n",
        "accuracy_score(y_val, y_pred)"
      ],
      "metadata": {
        "colab": {
          "base_uri": "https://localhost:8080/"
        },
        "id": "Mir29yWiuW5S",
        "outputId": "713948e6-bbff-4495-fa51-a1d2723f9365"
      },
      "execution_count": null,
      "outputs": [
        {
          "output_type": "stream",
          "name": "stdout",
          "text": [
            "[[ 158    0   46  303  114  131   26]\n",
            " [   2   24    6   33   13   11    3]\n",
            " [  63    0  205  271   89  139   68]\n",
            " [  31    0   34 1182   95  115   27]\n",
            " [  33    0   45  339  396  107   27]\n",
            " [  46    0   56  329  159  363   32]\n",
            " [  14    0   45  115   53   41  354]]\n"
          ]
        },
        {
          "output_type": "execute_result",
          "data": {
            "text/plain": [
              "0.46700330837541354"
            ]
          },
          "metadata": {},
          "execution_count": 12
        }
      ]
    },
    {
      "cell_type": "markdown",
      "source": [
        "## **n_estimators = 50**"
      ],
      "metadata": {
        "id": "DcXFlyqQ0Ssn"
      }
    },
    {
      "cell_type": "code",
      "source": [
        "classifier = RandomForestClassifier(n_estimators = 50, bootstrap = False, random_state = 42)\n",
        "classifier.fit(X_train, y_train)\n",
        "y_pred = classifier.predict(X_val)\n",
        "cm = confusion_matrix(y_val, y_pred)\n",
        "print(cm)\n",
        "accuracy_score(y_val, y_pred)"
      ],
      "metadata": {
        "colab": {
          "base_uri": "https://localhost:8080/"
        },
        "id": "w04MFgLq0QdG",
        "outputId": "cd88991d-50eb-4e3f-d62b-85aa8ef611bc"
      },
      "execution_count": null,
      "outputs": [
        {
          "output_type": "stream",
          "name": "stdout",
          "text": [
            "[[ 175    0   67  268  123  121   24]\n",
            " [   4   24    6   30   14    9    5]\n",
            " [  73    0  234  251   97  115   65]\n",
            " [  67    0   55 1125  107  110   20]\n",
            " [  51    0   54  306  404  111   21]\n",
            " [  92    0  109  290  157  315   22]\n",
            " [  26    0   53  107   57   38  341]]\n"
          ]
        },
        {
          "output_type": "execute_result",
          "data": {
            "text/plain": [
              "0.4558593069824134"
            ]
          },
          "metadata": {},
          "execution_count": 13
        }
      ]
    },
    {
      "cell_type": "code",
      "source": [
        "classifier = RandomForestClassifier(n_estimators = 50, bootstrap = False, class_weight = \"balanced\", random_state = 42)\n",
        "classifier.fit(X_train, y_train)\n",
        "y_pred = classifier.predict(X_val)\n",
        "cm = confusion_matrix(y_val, y_pred)\n",
        "print(cm)\n",
        "accuracy_score(y_val, y_pred)"
      ],
      "metadata": {
        "colab": {
          "base_uri": "https://localhost:8080/"
        },
        "id": "JAJFUSx50a_l",
        "outputId": "ca15ee98-13ee-4cef-9284-d55b4ba432ad"
      },
      "execution_count": null,
      "outputs": [
        {
          "output_type": "stream",
          "name": "stdout",
          "text": [
            "[[ 175    0   78  317   95   92   21]\n",
            " [   7   24    3   35   10    9    4]\n",
            " [  65    0  238  281   82  115   54]\n",
            " [  75    0   49 1129  100  108   23]\n",
            " [  61    0   57  362  329  110   28]\n",
            " [  64    0   71  373  130  314   33]\n",
            " [  24    0   36  134   47   39  342]]\n"
          ]
        },
        {
          "output_type": "execute_result",
          "data": {
            "text/plain": [
              "0.4441929305241163"
            ]
          },
          "metadata": {},
          "execution_count": 14
        }
      ]
    },
    {
      "cell_type": "code",
      "source": [
        "classifier = RandomForestClassifier(n_estimators = 50, bootstrap = False, min_samples_split = 3, random_state = 42)\n",
        "classifier.fit(X_train, y_train)\n",
        "y_pred = classifier.predict(X_val)\n",
        "cm = confusion_matrix(y_val, y_pred)\n",
        "print(cm)\n",
        "accuracy_score(y_val, y_pred)"
      ],
      "metadata": {
        "colab": {
          "base_uri": "https://localhost:8080/"
        },
        "id": "idu4VkY-77NM",
        "outputId": "0453f04d-4f82-4521-c23b-10b196542fee"
      },
      "execution_count": null,
      "outputs": [
        {
          "output_type": "stream",
          "name": "stdout",
          "text": [
            "[[ 178    0   60  268  118  131   23]\n",
            " [  13   23    7   24   12   11    2]\n",
            " [  64    0  234  264   91  121   61]\n",
            " [  61    0   40 1129  101  119   34]\n",
            " [  42    0   61  289  398  130   27]\n",
            " [  71    0   81  297  174  332   30]\n",
            " [  19    0   52  112   50   39  350]]\n"
          ]
        },
        {
          "output_type": "execute_result",
          "data": {
            "text/plain": [
              "0.4603865575483197"
            ]
          },
          "metadata": {},
          "execution_count": 16
        }
      ]
    },
    {
      "cell_type": "code",
      "source": [
        "classifier = RandomForestClassifier(n_estimators = 50, bootstrap = False, min_samples_split = 4, random_state = 42)\n",
        "classifier.fit(X_train, y_train)\n",
        "y_pred = classifier.predict(X_val)\n",
        "cm = confusion_matrix(y_val, y_pred)\n",
        "print(cm)\n",
        "accuracy_score(y_val, y_pred)"
      ],
      "metadata": {
        "colab": {
          "base_uri": "https://localhost:8080/"
        },
        "id": "pH9Yksnt8xdF",
        "outputId": "288e3834-72ca-4404-b664-11b4aa77ede8"
      },
      "execution_count": null,
      "outputs": [
        {
          "output_type": "stream",
          "name": "stdout",
          "text": [
            "[[ 165    0   55  271  133  127   27]\n",
            " [   4   23    5   27   14   14    5]\n",
            " [  57    0  223  249   95  146   65]\n",
            " [  49    0   46 1124  108  126   31]\n",
            " [  56    0   47  304  404  109   27]\n",
            " [  76    0   78  306  171  321   33]\n",
            " [  20    0   47  108   66   40  341]]\n"
          ]
        },
        {
          "output_type": "execute_result",
          "data": {
            "text/plain": [
              "0.4528991816123977"
            ]
          },
          "metadata": {},
          "execution_count": 17
        }
      ]
    },
    {
      "cell_type": "code",
      "source": [
        "classifier = RandomForestClassifier(n_estimators = 50, bootstrap = False, min_samples_split = 5, random_state = 42)\n",
        "classifier.fit(X_train, y_train)\n",
        "y_pred = classifier.predict(X_val)\n",
        "cm = confusion_matrix(y_val, y_pred)\n",
        "print(cm)\n",
        "accuracy_score(y_val, y_pred)"
      ],
      "metadata": {
        "colab": {
          "base_uri": "https://localhost:8080/"
        },
        "id": "1edVfiN-974A",
        "outputId": "adfd318f-0377-41f3-f62a-86846f80247d"
      },
      "execution_count": null,
      "outputs": [
        {
          "output_type": "stream",
          "name": "stdout",
          "text": [
            "[[ 161    0   57  278  115  136   31]\n",
            " [   9   22    5   28   14   12    2]\n",
            " [  79    0  226  217  107  142   64]\n",
            " [  44    0   45 1138  108  123   26]\n",
            " [  47    0   54  292  389  137   28]\n",
            " [  68    0   71  289  174  354   29]\n",
            " [  21    0   47  118   58   30  348]]\n"
          ]
        },
        {
          "output_type": "execute_result",
          "data": {
            "text/plain": [
              "0.4593418074177259"
            ]
          },
          "metadata": {},
          "execution_count": 18
        }
      ]
    },
    {
      "cell_type": "code",
      "source": [
        "classifier = RandomForestClassifier(n_estimators = 50, bootstrap = False, min_samples_split = 6, random_state = 42)\n",
        "classifier.fit(X_train, y_train)\n",
        "y_pred = classifier.predict(X_val)\n",
        "cm = confusion_matrix(y_val, y_pred)\n",
        "print(cm)\n",
        "accuracy_score(y_val, y_pred)"
      ],
      "metadata": {
        "colab": {
          "base_uri": "https://localhost:8080/"
        },
        "id": "dGw9_M87-Zfz",
        "outputId": "c660c014-4ba4-4a07-eafe-bdc04adf4746"
      },
      "execution_count": null,
      "outputs": [
        {
          "output_type": "stream",
          "name": "stdout",
          "text": [
            "[[ 175    0   51  279  130  115   28]\n",
            " [   4   21    6   31   15    8    7]\n",
            " [  62    0  223  244  113  131   62]\n",
            " [  52    0   34 1123  119  126   30]\n",
            " [  41    0   55  292  386  146   27]\n",
            " [  69    0   70  303  163  353   27]\n",
            " [  26    0   44  114   42   47  349]]\n"
          ]
        },
        {
          "output_type": "execute_result",
          "data": {
            "text/plain": [
              "0.45794880724360093"
            ]
          },
          "metadata": {},
          "execution_count": 19
        }
      ]
    },
    {
      "cell_type": "markdown",
      "metadata": {
        "id": "4XumQQFz3FYn"
      },
      "source": [
        "## **n_estimators = 100**"
      ]
    },
    {
      "cell_type": "code",
      "execution_count": null,
      "metadata": {
        "colab": {
          "base_uri": "https://localhost:8080/"
        },
        "id": "WE67Aw6t4K5E",
        "outputId": "12f7e9e8-4a7b-44ce-a487-3a6e28374ff0"
      },
      "outputs": [
        {
          "name": "stdout",
          "output_type": "stream",
          "text": [
            "[[ 174    0   52  287  131  115   19]\n",
            " [   3   21    8   32   15    9    4]\n",
            " [  59    1  210  265   98  137   65]\n",
            " [  57    0   44 1109  106  134   34]\n",
            " [  36    0   33  330  390  128   30]\n",
            " [  51    0   65  318  186  343   22]\n",
            " [  18    0   41  123   52   33  355]]\n"
          ]
        },
        {
          "data": {
            "text/plain": [
              "0.45307330663416334"
            ]
          },
          "execution_count": 18,
          "metadata": {},
          "output_type": "execute_result"
        }
      ],
      "source": [
        "classifier = RandomForestClassifier(n_estimators = 100, random_state = 42)\n",
        "classifier.fit(X_train, y_train)\n",
        "y_pred = classifier.predict(X_val)\n",
        "cm = confusion_matrix(y_val, y_pred)\n",
        "print(cm)\n",
        "accuracy_score(y_val, y_pred)"
      ]
    },
    {
      "cell_type": "code",
      "execution_count": null,
      "metadata": {
        "colab": {
          "base_uri": "https://localhost:8080/"
        },
        "id": "4D5fzY8P8etq",
        "outputId": "d2cfa3f2-a435-438c-b4df-54c8d3b40fa1"
      },
      "outputs": [
        {
          "name": "stdout",
          "output_type": "stream",
          "text": [
            "[[ 178    0   51  276  129  126   18]\n",
            " [   3   26   13   27   13    8    2]\n",
            " [  52    1  225  237  122  139   59]\n",
            " [  44    0   49 1141   89  133   28]\n",
            " [  39    0   46  309  379  146   28]\n",
            " [  59    0   55  316  182  345   28]\n",
            " [  19    0   29  114   62   34  364]]\n"
          ]
        },
        {
          "data": {
            "text/plain": [
              "0.46282430785303846"
            ]
          },
          "execution_count": 29,
          "metadata": {},
          "output_type": "execute_result"
        }
      ],
      "source": [
        "classifier = RandomForestClassifier(n_estimators = 100, bootstrap = False, random_state = 42)\n",
        "classifier.fit(X_train, y_train)\n",
        "y_pred = classifier.predict(X_val)\n",
        "cm = confusion_matrix(y_val, y_pred)\n",
        "print(cm)\n",
        "accuracy_score(y_val, y_pred)"
      ]
    },
    {
      "cell_type": "code",
      "execution_count": null,
      "metadata": {
        "colab": {
          "base_uri": "https://localhost:8080/"
        },
        "id": "jnVl4zHzDd-4",
        "outputId": "6ab99370-ddb4-41c7-d203-f8e2f09e3995"
      },
      "outputs": [
        {
          "name": "stdout",
          "output_type": "stream",
          "text": [
            "[[ 178    0   51  276  129  126   18]\n",
            " [   3   26   13   27   13    8    2]\n",
            " [  52    1  225  237  122  139   59]\n",
            " [  44    0   49 1141   89  133   28]\n",
            " [  39    0   46  309  379  146   28]\n",
            " [  59    0   55  316  182  345   28]\n",
            " [  19    0   29  114   62   34  364]]\n"
          ]
        },
        {
          "data": {
            "text/plain": [
              "0.46282430785303846"
            ]
          },
          "execution_count": 31,
          "metadata": {},
          "output_type": "execute_result"
        }
      ],
      "source": [
        "classifier = RandomForestClassifier(n_estimators = 100, bootstrap = False,n_jobs=-1, random_state = 42)\n",
        "classifier.fit(X_train, y_train)\n",
        "y_pred = classifier.predict(X_val)\n",
        "cm = confusion_matrix(y_val, y_pred)\n",
        "print(cm)\n",
        "accuracy_score(y_val, y_pred)"
      ]
    },
    {
      "cell_type": "code",
      "execution_count": null,
      "metadata": {
        "colab": {
          "base_uri": "https://localhost:8080/"
        },
        "id": "DX78A5_RF2jw",
        "outputId": "6e2ff3ba-c02f-4130-f34f-dd4c45768255"
      },
      "outputs": [
        {
          "name": "stdout",
          "output_type": "stream",
          "text": [
            "[[  69    0   37  415  115  108   34]\n",
            " [   0    1    2   62   13   10    4]\n",
            " [  17    0  111  385  107  122   93]\n",
            " [   9    0   11 1235   71  118   40]\n",
            " [  11    0   23  451  303  124   35]\n",
            " [  13    0   24  467  159  285   37]\n",
            " [   6    0   18  195   43   35  325]]\n"
          ]
        },
        {
          "data": {
            "text/plain": [
              "0.405537175692147"
            ]
          },
          "execution_count": 10,
          "metadata": {},
          "output_type": "execute_result"
        }
      ],
      "source": [
        "classifier = RandomForestClassifier(n_estimators = 100, max_depth=10, min_samples_split=2, random_state = 42)\n",
        "classifier.fit(X_train, y_train)\n",
        "y_pred = classifier.predict(X_val)\n",
        "cm = confusion_matrix(y_val, y_pred)\n",
        "print(cm)\n",
        "accuracy_score(y_val, y_pred)"
      ]
    },
    {
      "cell_type": "code",
      "execution_count": null,
      "metadata": {
        "colab": {
          "base_uri": "https://localhost:8080/"
        },
        "id": "oOjAUUSy4m4r",
        "outputId": "9e72a3c1-6a2f-4976-d9b2-0d218902341f"
      },
      "outputs": [
        {
          "name": "stdout",
          "output_type": "stream",
          "text": [
            "[[ 171    0   59  273  132  119   24]\n",
            " [   5   22    4   29   15   12    5]\n",
            " [  43    1  208  271  115  128   69]\n",
            " [  43    0   32 1138  101  135   35]\n",
            " [  32    0   35  309  392  149   30]\n",
            " [  42    0   49  305  193  373   23]\n",
            " [  14    0   39  114   56   39  360]]\n"
          ]
        },
        {
          "data": {
            "text/plain": [
              "0.46386905798363226"
            ]
          },
          "execution_count": 25,
          "metadata": {},
          "output_type": "execute_result"
        }
      ],
      "source": [
        "classifier = RandomForestClassifier(n_estimators = 100, max_depth=20, min_samples_split=3,bootstrap = False, random_state = 42)\n",
        "classifier.fit(X_train, y_train)\n",
        "y_pred = classifier.predict(X_val)\n",
        "cm = confusion_matrix(y_val, y_pred)\n",
        "print(cm)\n",
        "accuracy_score(y_val, y_pred)"
      ]
    },
    {
      "cell_type": "code",
      "execution_count": null,
      "metadata": {
        "colab": {
          "base_uri": "https://localhost:8080/"
        },
        "id": "rV3nZwYQ6DRL",
        "outputId": "5c546847-d43f-4e18-a795-f6d0050951c1"
      },
      "outputs": [
        {
          "name": "stdout",
          "output_type": "stream",
          "text": [
            "[[  73    0   30  412  113  119   31]\n",
            " [   0    0    4   58   17   10    3]\n",
            " [  15    0  126  362  107  142   83]\n",
            " [  10    0   12 1244   66  116   36]\n",
            " [   7    0   17  458  312  117   36]\n",
            " [  14    0   22  438  171  303   37]\n",
            " [   5    0   24  190   50   39  314]]\n"
          ]
        },
        {
          "data": {
            "text/plain": [
              "0.41302455162806895"
            ]
          },
          "execution_count": 26,
          "metadata": {},
          "output_type": "execute_result"
        }
      ],
      "source": [
        "classifier = RandomForestClassifier(n_estimators = 100, max_depth=10, min_samples_split=3,bootstrap = False, random_state = 42)\n",
        "classifier.fit(X_train, y_train)\n",
        "y_pred = classifier.predict(X_val)\n",
        "cm = confusion_matrix(y_val, y_pred)\n",
        "print(cm)\n",
        "accuracy_score(y_val, y_pred)"
      ]
    },
    {
      "cell_type": "code",
      "execution_count": null,
      "metadata": {
        "colab": {
          "base_uri": "https://localhost:8080/"
        },
        "id": "EXqkDRTIWGgI",
        "outputId": "d0fcf78a-ad80-486c-b0f2-9c49b145dba8"
      },
      "outputs": [
        {
          "name": "stdout",
          "output_type": "stream",
          "text": [
            "[[ 156    0   43  381   69  112   17]\n",
            " [   6   22    5   38   12    4    5]\n",
            " [  47    1  189  310   90  131   67]\n",
            " [  36    0   34 1188   88  104   34]\n",
            " [  30    0   34  429  318  109   27]\n",
            " [  44    0   56  408  145  309   23]\n",
            " [  12    0   30  153   38   34  355]]\n"
          ]
        },
        {
          "data": {
            "text/plain": [
              "0.4417551802193975"
            ]
          },
          "execution_count": 35,
          "metadata": {},
          "output_type": "execute_result"
        }
      ],
      "source": [
        "classifier = RandomForestClassifier(n_estimators = 100, random_state = 42, class_weight = \"balanced\")\n",
        "classifier.fit(X_train, y_train)\n",
        "y_pred = classifier.predict(X_val)\n",
        "cm = confusion_matrix(y_val, y_pred)\n",
        "print(cm)\n",
        "accuracy_score(y_val, y_pred)"
      ]
    },
    {
      "cell_type": "code",
      "execution_count": null,
      "metadata": {
        "colab": {
          "base_uri": "https://localhost:8080/"
        },
        "id": "5kyhKxSDWDXI",
        "outputId": "8ca2307d-e5bd-4e1f-9be0-d6615bf6cde3"
      },
      "outputs": [
        {
          "name": "stdout",
          "output_type": "stream",
          "text": [
            "[[ 156    0   43  381   69  112   17]\n",
            " [   6   22    5   38   12    4    5]\n",
            " [  47    1  189  310   90  131   67]\n",
            " [  36    0   34 1188   88  104   34]\n",
            " [  30    0   34  429  318  109   27]\n",
            " [  44    0   56  408  145  309   23]\n",
            " [  12    0   30  153   38   34  355]]\n"
          ]
        },
        {
          "data": {
            "text/plain": [
              "0.4417551802193975"
            ]
          },
          "execution_count": 34,
          "metadata": {},
          "output_type": "execute_result"
        }
      ],
      "source": [
        "classifier = RandomForestClassifier(n_estimators = 100,random_state = 42, n_jobs=-1, class_weight = \"balanced\")\n",
        "classifier.fit(X_train, y_train)\n",
        "y_pred = classifier.predict(X_val)\n",
        "cm = confusion_matrix(y_val, y_pred)\n",
        "print(cm)\n",
        "accuracy_score(y_val, y_pred)"
      ]
    },
    {
      "cell_type": "code",
      "execution_count": null,
      "metadata": {
        "colab": {
          "base_uri": "https://localhost:8080/"
        },
        "id": "Zg--yHtIBSDg",
        "outputId": "a60a9657-f569-4a20-d3f4-4e15fb1a05fe"
      },
      "outputs": [
        {
          "name": "stdout",
          "output_type": "stream",
          "text": [
            "[[ 187    0   42  338   96   98   17]\n",
            " [   5   26    9   33   11    6    2]\n",
            " [  35    1  218  322   81  104   74]\n",
            " [  45    0   38 1157   88  119   37]\n",
            " [  35    0   45  386  335  116   30]\n",
            " [  51    0   53  382  158  320   21]\n",
            " [  23    0   23  149   42   30  355]]\n"
          ]
        },
        {
          "data": {
            "text/plain": [
              "0.45237680654710083"
            ]
          },
          "execution_count": 32,
          "metadata": {},
          "output_type": "execute_result"
        }
      ],
      "source": [
        "classifier = RandomForestClassifier(n_estimators = 100, bootstrap = False, random_state = 42, class_weight = \"balanced\")\n",
        "classifier.fit(X_train, y_train)\n",
        "y_pred = classifier.predict(X_val)\n",
        "cm = confusion_matrix(y_val, y_pred)\n",
        "print(cm)\n",
        "accuracy_score(y_val, y_pred)"
      ]
    },
    {
      "cell_type": "code",
      "execution_count": null,
      "metadata": {
        "colab": {
          "base_uri": "https://localhost:8080/"
        },
        "id": "0shyPwjKEB8G",
        "outputId": "fd9e84e9-aae6-4095-bc5b-3c7b6c2a9952"
      },
      "outputs": [
        {
          "name": "stdout",
          "output_type": "stream",
          "text": [
            "[[ 187    0   42  338   96   98   17]\n",
            " [   5   26    9   33   11    6    2]\n",
            " [  35    1  218  322   81  104   74]\n",
            " [  45    0   38 1157   88  119   37]\n",
            " [  35    0   45  386  335  116   30]\n",
            " [  51    0   53  382  158  320   21]\n",
            " [  23    0   23  149   42   30  355]]\n"
          ]
        },
        {
          "data": {
            "text/plain": [
              "0.45237680654710083"
            ]
          },
          "execution_count": 33,
          "metadata": {},
          "output_type": "execute_result"
        }
      ],
      "source": [
        "classifier = RandomForestClassifier(n_estimators = 100, bootstrap = False, random_state = 42,n_jobs=-1, class_weight = \"balanced\")\n",
        "classifier.fit(X_train, y_train)\n",
        "y_pred = classifier.predict(X_val)\n",
        "cm = confusion_matrix(y_val, y_pred)\n",
        "print(cm)\n",
        "accuracy_score(y_val, y_pred)"
      ]
    },
    {
      "cell_type": "code",
      "execution_count": null,
      "metadata": {
        "colab": {
          "base_uri": "https://localhost:8080/"
        },
        "id": "FcMyElco80L6",
        "outputId": "6bd3af1d-dc5f-4936-babc-44428876d887"
      },
      "outputs": [
        {
          "name": "stdout",
          "output_type": "stream",
          "text": [
            "[[  80    0   13  445  101  102   37]\n",
            " [   0    7    2   61   10    6    6]\n",
            " [  21    1  104  399   96  113  101]\n",
            " [  12    0   19 1236   65  108   44]\n",
            " [  14    0   11  500  278   96   48]\n",
            " [  16    0   21  479  146  280   43]\n",
            " [   8    0   10  197   34   35  338]]\n"
          ]
        },
        {
          "data": {
            "text/plain": [
              "0.4044924255615532"
            ]
          },
          "execution_count": 9,
          "metadata": {},
          "output_type": "execute_result"
        }
      ],
      "source": [
        "classifier = RandomForestClassifier(n_estimators = 100, max_depth=10, min_samples_split=2, criterion = 'entropy', random_state = 42)\n",
        "classifier.fit(X_train, y_train)\n",
        "y_pred = classifier.predict(X_val)\n",
        "cm = confusion_matrix(y_val, y_pred)\n",
        "print(cm)\n",
        "accuracy_score(y_val, y_pred)"
      ]
    },
    {
      "cell_type": "markdown",
      "metadata": {
        "id": "oC71s85N3z6Q"
      },
      "source": [
        "## n_estimators = 200"
      ]
    },
    {
      "cell_type": "code",
      "execution_count": null,
      "metadata": {
        "colab": {
          "base_uri": "https://localhost:8080/"
        },
        "id": "vLQleM5N4a6M",
        "outputId": "efaf35b3-6b94-44e9-a535-31fb9f7e984c"
      },
      "outputs": [
        {
          "name": "stdout",
          "output_type": "stream",
          "text": [
            "[[ 151    0   50  304  124  126   23]\n",
            " [   1   21    6   37   14    8    5]\n",
            " [  34    1  200  275  103  146   76]\n",
            " [  43    0   41 1156   85  128   31]\n",
            " [  27    0   26  339  384  137   34]\n",
            " [  34    0   52  342  185  346   26]\n",
            " [  20    0   36  132   48   32  354]]\n"
          ]
        },
        {
          "data": {
            "text/plain": [
              "0.4548145568518196"
            ]
          },
          "execution_count": 21,
          "metadata": {},
          "output_type": "execute_result"
        }
      ],
      "source": [
        "classifier = RandomForestClassifier(n_estimators = 200, random_state = 42)\n",
        "classifier.fit(X_train, y_train)\n",
        "y_pred = classifier.predict(X_val)\n",
        "cm = confusion_matrix(y_val, y_pred)\n",
        "print(cm)\n",
        "accuracy_score(y_val, y_pred)"
      ]
    },
    {
      "cell_type": "code",
      "execution_count": null,
      "metadata": {
        "colab": {
          "base_uri": "https://localhost:8080/"
        },
        "id": "2i8aS0ntGsMF",
        "outputId": "f0cdfc9b-6c2e-4dfb-cff6-0bc0fed18791"
      },
      "outputs": [
        {
          "name": "stdout",
          "output_type": "stream",
          "text": [
            "[[  71    0   29  418  109  119   32]\n",
            " [   0    0    2   64   13    9    4]\n",
            " [  15    0  102  393  105  132   88]\n",
            " [   7    0   17 1256   56  112   36]\n",
            " [   6    0   14  472  307  110   38]\n",
            " [   7    0   20  453  169  300   36]\n",
            " [   5    0   16  188   41   40  332]]\n"
          ]
        },
        {
          "data": {
            "text/plain": [
              "0.41232805154100644"
            ]
          },
          "execution_count": 11,
          "metadata": {},
          "output_type": "execute_result"
        }
      ],
      "source": [
        "classifier = RandomForestClassifier(n_estimators = 200, max_depth=10, min_samples_split=2, random_state = 42)\n",
        "classifier.fit(X_train, y_train)\n",
        "y_pred = classifier.predict(X_val)\n",
        "cm = confusion_matrix(y_val, y_pred)\n",
        "print(cm)\n",
        "accuracy_score(y_val, y_pred)"
      ]
    },
    {
      "cell_type": "code",
      "execution_count": null,
      "metadata": {
        "colab": {
          "base_uri": "https://localhost:8080/"
        },
        "id": "VR0B-DP26Goe",
        "outputId": "723b82d1-f9fb-401a-a540-f34136ad2d93"
      },
      "outputs": [
        {
          "name": "stdout",
          "output_type": "stream",
          "text": [
            "[[ 163    0   49  296  122  126   22]\n",
            " [   2   26    9   30   11   10    4]\n",
            " [  42    1  220  252  109  146   65]\n",
            " [  37    0   33 1169   86  132   27]\n",
            " [  36    0   34  316  405  128   28]\n",
            " [  46    0   39  327  183  365   25]\n",
            " [  20    0   33  118   58   32  361]]\n"
          ]
        },
        {
          "data": {
            "text/plain": [
              "0.4717046839630855"
            ]
          },
          "execution_count": 27,
          "metadata": {},
          "output_type": "execute_result"
        }
      ],
      "source": [
        "classifier = RandomForestClassifier(n_estimators = 200, bootstrap = False, random_state = 42)\n",
        "classifier.fit(X_train, y_train)\n",
        "y_pred = classifier.predict(X_val)\n",
        "cm = confusion_matrix(y_val, y_pred)\n",
        "print(cm)\n",
        "accuracy_score(y_val, y_pred)"
      ]
    },
    {
      "cell_type": "markdown",
      "metadata": {
        "id": "N5yah1UK4F2Z"
      },
      "source": [
        "# n_estimators = 500, 1000, 2000"
      ]
    },
    {
      "cell_type": "code",
      "execution_count": null,
      "metadata": {
        "colab": {
          "base_uri": "https://localhost:8080/"
        },
        "id": "V0GhBm-e4lO7",
        "outputId": "4f9c0f18-0a95-4e76-de38-8e537d3f5dbf"
      },
      "outputs": [
        {
          "name": "stdout",
          "output_type": "stream",
          "text": [
            "[[ 142    0   38  323  130  120   25]\n",
            " [   1   22    6   31   17    9    6]\n",
            " [  34    1  191  283  103  142   81]\n",
            " [  21    0   29 1192   75  130   37]\n",
            " [  16    0   18  333  394  147   39]\n",
            " [  32    0   42  335  178  374   24]\n",
            " [  14    0   27  125   51   32  373]]\n"
          ]
        },
        {
          "data": {
            "text/plain": [
              "0.46804805850600734"
            ]
          },
          "execution_count": 24,
          "metadata": {},
          "output_type": "execute_result"
        }
      ],
      "source": [
        "classifier = RandomForestClassifier(n_estimators = 500, random_state = 42)\n",
        "classifier.fit(X_train, y_train)\n",
        "y_pred = classifier.predict(X_val)\n",
        "cm = confusion_matrix(y_val, y_pred)\n",
        "print(cm)\n",
        "accuracy_score(y_val, y_pred)"
      ]
    },
    {
      "cell_type": "code",
      "execution_count": null,
      "metadata": {
        "colab": {
          "base_uri": "https://localhost:8080/"
        },
        "id": "QJYhKDZu5-bN",
        "outputId": "b5d4ea77-9728-41af-9285-9cae4420845e"
      },
      "outputs": [
        {
          "name": "stdout",
          "output_type": "stream",
          "text": [
            "[[ 150    0   44  305  125  131   23]\n",
            " [   2   26    8   32   14    6    4]\n",
            " [  27    1  214  264  118  138   73]\n",
            " [  14    0   24 1203   72  140   31]\n",
            " [  16    0   23  331  423  129   25]\n",
            " [  30    0   35  316  176  400   28]\n",
            " [   8    0   29  124   52   35  374]]\n"
          ]
        },
        {
          "data": {
            "text/plain": [
              "0.4858088107261013"
            ]
          },
          "execution_count": 28,
          "metadata": {},
          "output_type": "execute_result"
        }
      ],
      "source": [
        "classifier = RandomForestClassifier(n_estimators = 1000, bootstrap = False, random_state = 42)\n",
        "classifier.fit(X_train, y_train)\n",
        "y_pred = classifier.predict(X_val)\n",
        "cm = confusion_matrix(y_val, y_pred)\n",
        "print(cm)\n",
        "accuracy_score(y_val, y_pred)"
      ]
    },
    {
      "cell_type": "code",
      "execution_count": null,
      "metadata": {
        "colab": {
          "base_uri": "https://localhost:8080/"
        },
        "id": "aRtovoTlBPVI",
        "outputId": "2edc90cc-7258-4578-d3c0-15242a787c3e"
      },
      "outputs": [
        {
          "name": "stdout",
          "output_type": "stream",
          "text": [
            "[[ 151    0   45  305  114  138   25]\n",
            " [   2   26    5   33   13    8    5]\n",
            " [  26    1  213  267  111  144   73]\n",
            " [  20    0   20 1197   73  139   35]\n",
            " [  19    0   24  336  417  124   27]\n",
            " [  20    0   33  321  185  402   24]\n",
            " [   9    0   36  117   53   33  374]]\n"
          ]
        },
        {
          "data": {
            "text/plain": [
              "0.48406756050844507"
            ]
          },
          "execution_count": 30,
          "metadata": {},
          "output_type": "execute_result"
        }
      ],
      "source": [
        "classifier = RandomForestClassifier(n_estimators = 2000, bootstrap = False, random_state = 42)\n",
        "classifier.fit(X_train, y_train)\n",
        "y_pred = classifier.predict(X_val)\n",
        "cm = confusion_matrix(y_val, y_pred)\n",
        "print(cm)\n",
        "accuracy_score(y_val, y_pred)"
      ]
    },
    {
      "cell_type": "markdown",
      "metadata": {
        "id": "hLJIT1GO4LO3"
      },
      "source": [
        "# Random Forest With PCA"
      ]
    },
    {
      "cell_type": "code",
      "execution_count": null,
      "metadata": {
        "id": "9TvkjkQS1i7v"
      },
      "outputs": [],
      "source": [
        "pca100 = PCA(n_components=100)\n",
        "X_train100 = pca100.fit_transform(X_train)\n",
        "X_val100 = pca100.fit_transform(X_val)\n",
        "X_test100 = pca100.fit_transform(X_test)\n",
        "\n",
        "pca200 = PCA(n_components=200)\n",
        "X_train200 = pca200.fit_transform(X_train)\n",
        "X_val200 = pca200.fit_transform(X_val)\n",
        "X_test200 = pca200.fit_transform(X_test)\n"
      ]
    },
    {
      "cell_type": "markdown",
      "metadata": {
        "id": "lUAWapSO4bNf"
      },
      "source": [
        "## PCA100"
      ]
    },
    {
      "cell_type": "code",
      "execution_count": null,
      "metadata": {
        "colab": {
          "base_uri": "https://localhost:8080/"
        },
        "id": "YeEgwhVa4UNr",
        "outputId": "6a527c56-329d-4631-d649-9d4c30d25057"
      },
      "outputs": [
        {
          "name": "stdout",
          "output_type": "stream",
          "text": [
            "[[ 30   0  47 485 112  90  14]\n",
            " [  5   0   3  48  15  16   5]\n",
            " [ 44   0  45 521 114  85  26]\n",
            " [ 53   0  78 977 147 189  40]\n",
            " [ 61   0  55 555 139 113  24]\n",
            " [ 49   0  37 579 170 127  23]\n",
            " [ 33   0  59 353 103  51  23]]\n"
          ]
        },
        {
          "data": {
            "text/plain": [
              "0.23350165418770677"
            ]
          },
          "execution_count": 19,
          "metadata": {},
          "output_type": "execute_result"
        }
      ],
      "source": [
        "classifier = RandomForestClassifier(n_estimators = 100, random_state = 42)\n",
        "classifier.fit(X_train100, y_train)\n",
        "y_pred = classifier.predict(X_val100)\n",
        "cm = confusion_matrix(y_val, y_pred)\n",
        "print(cm)\n",
        "accuracy_score(y_val, y_pred)"
      ]
    },
    {
      "cell_type": "code",
      "execution_count": null,
      "metadata": {
        "colab": {
          "base_uri": "https://localhost:8080/"
        },
        "id": "oeOk7xOq0Djt",
        "outputId": "f5bd0a1d-399d-4b37-91b8-a1b9bd106fd5"
      },
      "outputs": [
        {
          "name": "stdout",
          "output_type": "stream",
          "text": [
            "[[   5    0    9  605   90   57   12]\n",
            " [   0    0    1   68    6   11    6]\n",
            " [   2    0   10  638  101   56   28]\n",
            " [   9    0   12 1215   89  114   45]\n",
            " [   6    0   16  682  130   91   22]\n",
            " [   5    0   12  738  130   73   27]\n",
            " [   3    0   20  451   79   30   39]]\n"
          ]
        },
        {
          "data": {
            "text/plain": [
              "0.256312032039004"
            ]
          },
          "execution_count": 14,
          "metadata": {},
          "output_type": "execute_result"
        }
      ],
      "source": [
        "classifier = RandomForestClassifier(n_estimators = 100, max_depth=10, min_samples_split=2, random_state = 42)\n",
        "classifier.fit(X_train100, y_train)\n",
        "y_pred = classifier.predict(X_val100)\n",
        "cm = confusion_matrix(y_val, y_pred)\n",
        "print(cm)\n",
        "accuracy_score(y_val, y_pred)"
      ]
    },
    {
      "cell_type": "code",
      "execution_count": null,
      "metadata": {
        "colab": {
          "base_uri": "https://localhost:8080/"
        },
        "id": "LB_fQ_K8z4tt",
        "outputId": "3c5d5648-af44-4b07-b736-b4219ce7d74b"
      },
      "outputs": [
        {
          "name": "stdout",
          "output_type": "stream",
          "text": [
            "[[   5    0   10  608   64   72   19]\n",
            " [   0    0    1   69   11    8    3]\n",
            " [   3    0   11  667   63   62   29]\n",
            " [   9    0   15 1236   72  104   48]\n",
            " [   5    0   13  721  111   69   28]\n",
            " [   8    0    8  749  116   86   18]\n",
            " [   9    0   25  476   56   24   32]]\n"
          ]
        },
        {
          "data": {
            "text/plain": [
              "0.25787915723489463"
            ]
          },
          "execution_count": 12,
          "metadata": {},
          "output_type": "execute_result"
        }
      ],
      "source": [
        "classifier = RandomForestClassifier(n_estimators = 100, max_depth=10, min_samples_split=2, criterion = 'entropy', random_state = 42)\n",
        "classifier.fit(X_train100, y_train)\n",
        "y_pred = classifier.predict(X_val100)\n",
        "cm = confusion_matrix(y_val, y_pred)\n",
        "print(cm)\n",
        "accuracy_score(y_val, y_pred)"
      ]
    },
    {
      "cell_type": "code",
      "execution_count": null,
      "metadata": {
        "colab": {
          "base_uri": "https://localhost:8080/"
        },
        "id": "y0n2Y0g_zzkV",
        "outputId": "684f7fa2-7c4d-40d0-8adb-17db4e99f81f"
      },
      "outputs": [
        {
          "name": "stdout",
          "output_type": "stream",
          "text": [
            "[[   0    0    6  631   75   53   13]\n",
            " [   0    0    2   70    9    7    4]\n",
            " [   1    0    9  651   85   55   34]\n",
            " [   5    0   11 1259   68  105   36]\n",
            " [   3    0    8  707  112   90   27]\n",
            " [   2    0    5  753  110   97   18]\n",
            " [   0    0   10  479   67   27   39]]\n"
          ]
        },
        {
          "data": {
            "text/plain": [
              "0.26397353299669163"
            ]
          },
          "execution_count": 16,
          "metadata": {},
          "output_type": "execute_result"
        }
      ],
      "source": [
        "classifier = RandomForestClassifier(n_estimators = 200, max_depth=10, min_samples_split=2, random_state = 42)\n",
        "classifier.fit(X_train100, y_train)\n",
        "y_pred = classifier.predict(X_val100)\n",
        "cm = confusion_matrix(y_val, y_pred)\n",
        "print(cm)\n",
        "accuracy_score(y_val, y_pred)"
      ]
    },
    {
      "cell_type": "code",
      "execution_count": null,
      "metadata": {
        "colab": {
          "base_uri": "https://localhost:8080/"
        },
        "id": "BEp6s-A74ctb",
        "outputId": "631478cf-89fc-4f27-c29a-72632d906c25"
      },
      "outputs": [
        {
          "name": "stdout",
          "output_type": "stream",
          "text": [
            "[[  16    0   30  526  109   86   11]\n",
            " [   3    0    3   53   12   16    5]\n",
            " [  26    0   31  547  117   91   23]\n",
            " [  30    0   48 1083  117  161   45]\n",
            " [  24    0   38  593  129  136   27]\n",
            " [  28    0   34  607  153  142   21]\n",
            " [  14    0   44  385   92   55   32]]\n"
          ]
        },
        {
          "data": {
            "text/plain": [
              "0.24952115619014453"
            ]
          },
          "execution_count": 22,
          "metadata": {},
          "output_type": "execute_result"
        }
      ],
      "source": [
        "classifier = RandomForestClassifier(n_estimators = 200, random_state = 42)\n",
        "classifier.fit(X_train100, y_train)\n",
        "y_pred = classifier.predict(X_val100)\n",
        "cm = confusion_matrix(y_val, y_pred)\n",
        "print(cm)\n",
        "accuracy_score(y_val, y_pred)"
      ]
    },
    {
      "cell_type": "markdown",
      "metadata": {
        "id": "rYfm4c-M4fJG"
      },
      "source": [
        "## PCA200"
      ]
    },
    {
      "cell_type": "code",
      "execution_count": null,
      "metadata": {
        "colab": {
          "base_uri": "https://localhost:8080/"
        },
        "id": "wht1fr0L4YZT",
        "outputId": "a3659fc6-1374-4790-bd04-19d1f701593a"
      },
      "outputs": [
        {
          "name": "stdout",
          "output_type": "stream",
          "text": [
            "[[  44    0   32  510   98   85    9]\n",
            " [   8    0    6   55   15    6    2]\n",
            " [  34    0   56  541  101   82   21]\n",
            " [  61    0   77 1013  131  180   22]\n",
            " [  52    0   53  576  140  110   16]\n",
            " [  37    0   46  615  143  136    8]\n",
            " [  43    0   44  361   95   58   21]]\n"
          ]
        },
        {
          "data": {
            "text/plain": [
              "0.2455162806895351"
            ]
          },
          "execution_count": 20,
          "metadata": {},
          "output_type": "execute_result"
        }
      ],
      "source": [
        "classifier = RandomForestClassifier(n_estimators = 100, random_state = 42)\n",
        "classifier.fit(X_train200, y_train)\n",
        "y_pred = classifier.predict(X_val200)\n",
        "cm = confusion_matrix(y_val, y_pred)\n",
        "print(cm)\n",
        "accuracy_score(y_val, y_pred)"
      ]
    },
    {
      "cell_type": "code",
      "execution_count": null,
      "metadata": {
        "colab": {
          "base_uri": "https://localhost:8080/"
        },
        "id": "ZzcuI3yS4g2j",
        "outputId": "adade353-2e0f-4762-ccf6-fe00a982d910"
      },
      "outputs": [
        {
          "name": "stdout",
          "output_type": "stream",
          "text": [
            "[[  17    0   22  566   99   64   10]\n",
            " [   7    0    4   56   16    7    2]\n",
            " [  14    0   42  591   95   80   13]\n",
            " [  28    0   52 1125  109  149   21]\n",
            " [  22    0   36  648  130   95   16]\n",
            " [  26    0   30  694  119  108    8]\n",
            " [  17    0   35  420   80   48   22]]\n"
          ]
        },
        {
          "data": {
            "text/plain": [
              "0.2514365314295664"
            ]
          },
          "execution_count": 23,
          "metadata": {},
          "output_type": "execute_result"
        }
      ],
      "source": [
        "classifier = RandomForestClassifier(n_estimators = 200, random_state = 42)\n",
        "classifier.fit(X_train200, y_train)\n",
        "y_pred = classifier.predict(X_val200)\n",
        "cm = confusion_matrix(y_val, y_pred)\n",
        "print(cm)\n",
        "accuracy_score(y_val, y_pred)"
      ]
    },
    {
      "cell_type": "code",
      "execution_count": null,
      "metadata": {
        "colab": {
          "base_uri": "https://localhost:8080/"
        },
        "id": "BCZufHqd0dPc",
        "outputId": "fc7a84df-00c5-49ec-f1fa-32ad779bd9d6"
      },
      "outputs": [
        {
          "name": "stdout",
          "output_type": "stream",
          "text": [
            "[[   3    0    5  681   40   39   10]\n",
            " [   0    0    1   80    7    0    4]\n",
            " [   2    0    9  723   55   31   15]\n",
            " [   0    0    9 1345   45   73   12]\n",
            " [   0    0    3  802   78   55    9]\n",
            " [   0    0    4  855   62   55    9]\n",
            " [   2    0   12  521   50   25   12]]\n"
          ]
        },
        {
          "data": {
            "text/plain": [
              "0.26153578269197286"
            ]
          },
          "execution_count": 17,
          "metadata": {},
          "output_type": "execute_result"
        }
      ],
      "source": [
        "classifier = RandomForestClassifier(n_estimators = 200, max_depth=10, min_samples_split=2, random_state = 42)\n",
        "classifier.fit(X_train200, y_train)\n",
        "y_pred = classifier.predict(X_val200)\n",
        "cm = confusion_matrix(y_val, y_pred)\n",
        "print(cm)\n",
        "accuracy_score(y_val, y_pred)"
      ]
    },
    {
      "cell_type": "code",
      "execution_count": null,
      "metadata": {
        "colab": {
          "base_uri": "https://localhost:8080/"
        },
        "id": "m3Ixd6tR0Uxc",
        "outputId": "56608943-5599-4067-ed33-c783bf3a5fdb"
      },
      "outputs": [
        {
          "name": "stdout",
          "output_type": "stream",
          "text": [
            "[[   7    0    8  657   48   50    8]\n",
            " [   1    0    1   73    9    2    6]\n",
            " [   4    0   10  698   64   37   22]\n",
            " [   4    0   19 1301   50   97   13]\n",
            " [   2    0    7  770   93   64   11]\n",
            " [   4    0    9  828   71   63   10]\n",
            " [   3    0   16  495   49   38   21]]\n"
          ]
        },
        {
          "data": {
            "text/plain": [
              "0.26031690753961345"
            ]
          },
          "execution_count": 15,
          "metadata": {},
          "output_type": "execute_result"
        }
      ],
      "source": [
        "classifier = RandomForestClassifier(n_estimators = 100, max_depth=10, min_samples_split=2, random_state = 42)\n",
        "classifier.fit(X_train200, y_train)\n",
        "y_pred = classifier.predict(X_val200)\n",
        "cm = confusion_matrix(y_val, y_pred)\n",
        "print(cm)\n",
        "accuracy_score(y_val, y_pred)"
      ]
    },
    {
      "cell_type": "code",
      "execution_count": null,
      "metadata": {
        "colab": {
          "base_uri": "https://localhost:8080/"
        },
        "id": "tjsbDzN10JC9",
        "outputId": "8abca89d-8c7f-4a4a-cd44-0f54c643dd37"
      },
      "outputs": [
        {
          "name": "stdout",
          "output_type": "stream",
          "text": [
            "[[   3    0    6  669   48   45    7]\n",
            " [   1    0    1   76    7    4    3]\n",
            " [   1    0   13  714   57   36   14]\n",
            " [   6    0   11 1313   51   85   18]\n",
            " [   0    0    9  793   80   45   20]\n",
            " [   2    0    3  812   80   74   14]\n",
            " [   4    0   13  506   50   27   22]]\n"
          ]
        },
        {
          "data": {
            "text/plain": [
              "0.2620581577572697"
            ]
          },
          "execution_count": 13,
          "metadata": {},
          "output_type": "execute_result"
        }
      ],
      "source": [
        "classifier = RandomForestClassifier(n_estimators = 100, max_depth=10, min_samples_split=2, criterion = 'entropy', random_state = 42)\n",
        "classifier.fit(X_train200, y_train)\n",
        "y_pred = classifier.predict(X_val200)\n",
        "cm = confusion_matrix(y_val, y_pred)\n",
        "print(cm)\n",
        "accuracy_score(y_val, y_pred)"
      ]
    },
    {
      "cell_type": "markdown",
      "metadata": {
        "id": "F-iv8GoNejQz"
      },
      "source": [
        "# Grid Search"
      ]
    },
    {
      "cell_type": "code",
      "execution_count": null,
      "metadata": {
        "id": "qkAw1_pthMz3"
      },
      "outputs": [],
      "source": [
        "from sklearn.model_selection import RandomizedSearchCV"
      ]
    },
    {
      "cell_type": "code",
      "execution_count": null,
      "metadata": {
        "id": "RkbkZuiBeitE"
      },
      "outputs": [],
      "source": [
        "# Create the parameter grid based on the results of random search\n",
        "param_distributions  = {\n",
        "    'bootstrap': [True, False],\n",
        "    'max_depth': [10, 20, 50],\n",
        "    'max_features': [\"sqrt\", \"log2\", None],\n",
        "    'min_samples_leaf': [3, 4, 5],\n",
        "    'min_samples_split': [8, 10, 12],\n",
        "    'n_estimators': [100, 200, 300, 400],\n",
        "    'criterion': [\"gini\", \"entropy\", \"log_loss\"],\n",
        "    'class_weight': [\"balanced\", None, \"balanced_subsample\"]\n",
        "}\n",
        "# Create a based model\n",
        "rf = RandomForestClassifier()\n",
        "# Instantiate the grid search model\n",
        "RandomizedSearch = RandomizedSearchCV(estimator = rf, param_distributions  = param_distributions ,\n",
        "                          cv = 2, n_jobs = -1, verbose = 2, random_state=42, n_iter = 15)"
      ]
    },
    {
      "cell_type": "code",
      "execution_count": null,
      "metadata": {
        "colab": {
          "background_save": true,
          "base_uri": "https://localhost:8080/"
        },
        "id": "iG0Fzi8xfuZ1",
        "outputId": "a39fc887-4747-4b08-9a6b-8f4294928aeb"
      },
      "outputs": [
        {
          "name": "stdout",
          "output_type": "stream",
          "text": [
            "Fitting 2 folds for each of 15 candidates, totalling 30 fits\n"
          ]
        }
      ],
      "source": [
        "RandomizedSearch.fit(X_train, y_train)\n",
        "RandomizedSearch.best_params_"
      ]
    },
    {
      "cell_type": "code",
      "execution_count": null,
      "metadata": {
        "id": "eaY4Q-I_f2UM"
      },
      "outputs": [],
      "source": [
        "best_grid = RandomizedSearch.best_estimator_\n",
        "RandomizedSearch_accuracy = evaluate(best_grid, X_val, y_val)"
      ]
    },
    {
      "cell_type": "markdown",
      "metadata": {
        "id": "HeNrygzV4vvw"
      },
      "source": [
        "# Autoencoding"
      ]
    },
    {
      "cell_type": "code",
      "execution_count": null,
      "metadata": {
        "id": "8ha3wGMHXYT5"
      },
      "outputs": [],
      "source": [
        "x_train_auto = X_train\n",
        "x_test_auto = X_test\n",
        "x_val_auto = X_val"
      ]
    },
    {
      "cell_type": "code",
      "execution_count": null,
      "metadata": {
        "id": "oyYm-swtXsfo"
      },
      "outputs": [],
      "source": [
        "x_train_auto = x_train_auto.astype('float32') / 255\n",
        "x_test_auto = x_test_auto.astype('float32') / 255\n",
        "x_val_auto = x_val_auto.astype('float32') / 255"
      ]
    },
    {
      "cell_type": "code",
      "execution_count": null,
      "metadata": {
        "colab": {
          "base_uri": "https://localhost:8080/"
        },
        "id": "8SZtCcTpdHh9",
        "outputId": "502ea131-45df-481a-aa55-bb7fb6fa7ad1"
      },
      "outputs": [
        {
          "data": {
            "text/plain": [
              "(22972, 48, 48)"
            ]
          },
          "execution_count": 61,
          "metadata": {},
          "output_type": "execute_result"
        }
      ],
      "source": [
        "x_train_auto.shape"
      ]
    },
    {
      "cell_type": "code",
      "execution_count": null,
      "metadata": {
        "colab": {
          "base_uri": "https://localhost:8080/"
        },
        "id": "j8GKL6LGe5uz",
        "outputId": "754b6ea8-49f6-4d56-806f-ad977bf56931"
      },
      "outputs": [
        {
          "data": {
            "text/plain": [
              "(5743, 48, 48)"
            ]
          },
          "execution_count": 66,
          "metadata": {},
          "output_type": "execute_result"
        }
      ],
      "source": [
        "x_val_auto.shape"
      ]
    },
    {
      "cell_type": "code",
      "execution_count": null,
      "metadata": {
        "id": "bRnK9KM-cEyv"
      },
      "outputs": [],
      "source": [
        "import matplotlib.pyplot as plt\n",
        "import numpy as np\n",
        "import pandas as pd\n",
        "import tensorflow as tf\n",
        "\n",
        "from sklearn.metrics import accuracy_score, precision_score, recall_score\n",
        "from sklearn.model_selection import train_test_split\n",
        "from tensorflow.keras import layers, losses\n",
        "from tensorflow.keras.datasets import fashion_mnist\n",
        "from tensorflow.keras.models import Model"
      ]
    },
    {
      "cell_type": "code",
      "execution_count": null,
      "metadata": {
        "id": "VO5vZRMYX-Hn"
      },
      "outputs": [],
      "source": [
        "latent_dim = 64\n",
        "\n",
        "class Autoencoder(Model):\n",
        "  def __init__(self, latent_dim):\n",
        "    super(Autoencoder, self).__init__()\n",
        "    self.latent_dim = latent_dim\n",
        "    self.encoder = tf.keras.Sequential([\n",
        "      layers.Flatten(),\n",
        "      layers.Dense(latent_dim, activation='relu'),\n",
        "    ])\n",
        "    self.decoder = tf.keras.Sequential([\n",
        "      layers.Dense(2304, activation='sigmoid'),\n",
        "      layers.Reshape((48, 48))\n",
        "    ])\n",
        "\n",
        "  def call(self, x):\n",
        "    encoded = self.encoder(x)\n",
        "    decoded = self.decoder(encoded)\n",
        "    return decoded\n",
        "\n",
        "autoencoder = Autoencoder(latent_dim)"
      ]
    },
    {
      "cell_type": "code",
      "execution_count": null,
      "metadata": {
        "id": "R-perujrbk3W"
      },
      "outputs": [],
      "source": [
        "autoencoder.compile(optimizer='adam', loss=losses.MeanSquaredError())"
      ]
    },
    {
      "cell_type": "code",
      "execution_count": null,
      "metadata": {
        "colab": {
          "base_uri": "https://localhost:8080/"
        },
        "id": "lDoxiiYrbnM4",
        "outputId": "7939dc00-2894-4b89-8dbb-4d002dda1798"
      },
      "outputs": [
        {
          "name": "stdout",
          "output_type": "stream",
          "text": [
            "Epoch 1/10\n",
            "718/718 [==============================] - 14s 19ms/step - loss: 0.0352 - val_loss: 0.0273\n",
            "Epoch 2/10\n",
            "718/718 [==============================] - 6s 8ms/step - loss: 0.0246 - val_loss: 0.0222\n",
            "Epoch 3/10\n",
            "718/718 [==============================] - 9s 13ms/step - loss: 0.0207 - val_loss: 0.0199\n",
            "Epoch 4/10\n",
            "718/718 [==============================] - 6s 8ms/step - loss: 0.0190 - val_loss: 0.0187\n",
            "Epoch 5/10\n",
            "718/718 [==============================] - 8s 11ms/step - loss: 0.0184 - val_loss: 0.0183\n",
            "Epoch 6/10\n",
            "718/718 [==============================] - 7s 9ms/step - loss: 0.0181 - val_loss: 0.0181\n",
            "Epoch 7/10\n",
            "718/718 [==============================] - 6s 8ms/step - loss: 0.0180 - val_loss: 0.0180\n",
            "Epoch 8/10\n",
            "718/718 [==============================] - 9s 13ms/step - loss: 0.0178 - val_loss: 0.0178\n",
            "Epoch 9/10\n",
            "718/718 [==============================] - 6s 8ms/step - loss: 0.0177 - val_loss: 0.0178\n",
            "Epoch 10/10\n",
            "718/718 [==============================] - 7s 10ms/step - loss: 0.0177 - val_loss: 0.0178\n"
          ]
        },
        {
          "data": {
            "text/plain": [
              "<keras.src.callbacks.History at 0x7fde33ea5060>"
            ]
          },
          "execution_count": 69,
          "metadata": {},
          "output_type": "execute_result"
        }
      ],
      "source": [
        "autoencoder.fit(x_train_auto, x_train_auto,\n",
        "                epochs=10,\n",
        "                shuffle=True,\n",
        "                validation_data=(x_val_auto, x_val_auto))"
      ]
    },
    {
      "cell_type": "code",
      "execution_count": null,
      "metadata": {
        "id": "fcgt0phyZyTI"
      },
      "outputs": [],
      "source": [
        "encoded_imgs = autoencoder.encoder(x_val_auto).numpy()\n",
        "decoded_imgs = autoencoder.decoder(encoded_imgs).numpy()"
      ]
    },
    {
      "cell_type": "code",
      "execution_count": null,
      "metadata": {
        "colab": {
          "base_uri": "https://localhost:8080/",
          "height": 358
        },
        "id": "xkPhJvC4f9m9",
        "outputId": "72c44e02-9e6f-461a-8bcb-490dfcab0132"
      },
      "outputs": [
        {
          "data": {
            "image/png": "[encoded data removed]",
            "text/plain": [
              "<Figure size 2000x400 with 20 Axes>"
            ]
          },
          "metadata": {},
          "output_type": "display_data"
        }
      ],
      "source": [
        "n = 10\n",
        "plt.figure(figsize=(20, 4))\n",
        "for i in range(n):\n",
        "  # display original\n",
        "  ax = plt.subplot(2, n, i + 1)\n",
        "  plt.imshow(x_val_auto[i])\n",
        "  plt.title(\"original\")\n",
        "  plt.gray()\n",
        "  ax.get_xaxis().set_visible(False)\n",
        "  ax.get_yaxis().set_visible(False)\n",
        "\n",
        "  # display reconstruction\n",
        "  ax = plt.subplot(2, n, i + 1 + n)\n",
        "  plt.imshow(decoded_imgs[i])\n",
        "  plt.title(\"reconstructed\")\n",
        "  plt.gray()\n",
        "  ax.get_xaxis().set_visible(False)\n",
        "  ax.get_yaxis().set_visible(False)\n",
        "plt.show()"
      ]
    },
    {
      "cell_type": "code",
      "execution_count": null,
      "metadata": {
        "colab": {
          "base_uri": "https://localhost:8080/"
        },
        "id": "cPxs0k_ehI8z",
        "outputId": "4665e8af-731d-4853-d7c2-25891dad4520"
      },
      "outputs": [
        {
          "data": {
            "text/plain": [
              "(22972, 48, 48)"
            ]
          },
          "execution_count": 75,
          "metadata": {},
          "output_type": "execute_result"
        }
      ],
      "source": [
        "x_train_auto.shape"
      ]
    },
    {
      "cell_type": "code",
      "execution_count": null,
      "metadata": {
        "colab": {
          "base_uri": "https://localhost:8080/"
        },
        "id": "04SXokzuhNu7",
        "outputId": "e504545a-ea57-499b-9e6a-8aa34e81f8c7"
      },
      "outputs": [
        {
          "data": {
            "text/plain": [
              "(5743, 48, 48)"
            ]
          },
          "execution_count": 76,
          "metadata": {},
          "output_type": "execute_result"
        }
      ],
      "source": [
        "decoded_imgs.shape"
      ]
    },
    {
      "cell_type": "markdown",
      "metadata": {
        "id": "opm7Nldo4000"
      },
      "source": [
        "## 2D Transition"
      ]
    },
    {
      "cell_type": "code",
      "execution_count": null,
      "metadata": {
        "id": "VAbenPeqZpNH"
      },
      "outputs": [],
      "source": [
        "classifier = RandomForestClassifier(n_estimators = 100,random_state = 42)\n",
        "classifier.fit(x_train_auto, y_train)\n",
        "y_pred = classifier.predict(decoded_imgs)\n",
        "cm = confusion_matrix(y_val, y_pred)\n",
        "print(cm)\n",
        "accuracy_score(y_val, y_pred)"
      ]
    },
    {
      "cell_type": "code",
      "execution_count": null,
      "metadata": {
        "id": "QwHOeKKfhAT8"
      },
      "outputs": [],
      "source": []
    }
  ],
  "metadata": {
    "accelerator": "TPU",
    "colab": {
      "provenance": []
    },
    "kernelspec": {
      "display_name": "Python 3",
      "name": "python3"
    },
    "language_info": {
      "name": "python"
    }
  },
  "nbformat": 4,
  "nbformat_minor": 0
}